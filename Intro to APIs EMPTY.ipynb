{
 "cells": [
  {
   "cell_type": "markdown",
   "id": "7196054f",
   "metadata": {},
   "source": [
    "# Working with APIs"
   ]
  },
  {
   "cell_type": "markdown",
   "id": "0547b71e",
   "metadata": {},
   "source": [
    "API stands for Application programming interface<br>\n",
    "APIs are a way for applications to talk to eachother<br>\n",
    "In python we use the requests package to handle the connection<br>\n",
    "<small><strong>Note: It is requests with an s not request(this is a different package)</strong></small><br>\n",
    "Most API's communicate with data in the form of JSON<br>\n",
    "JSON stands for JavaScript Object Notation"
   ]
  },
  {
   "cell_type": "code",
   "execution_count": 1,
   "id": "4db9d154",
   "metadata": {},
   "outputs": [],
   "source": [
    "#import the packages we need:\n",
    "import requests, json"
   ]
  },
  {
   "cell_type": "markdown",
   "id": "e8c2ce51",
   "metadata": {},
   "source": [
    "We will be connecting to the Ergast F1 Racer API today:\n",
    "http://ergast.com/mrd/\n",
    "\n",
    "to view JSON data nicely in the Chrome browser install the extension JSONview"
   ]
  },
  {
   "cell_type": "code",
   "execution_count": null,
   "id": "52c440c6",
   "metadata": {},
   "outputs": [],
   "source": []
  },
  {
   "cell_type": "code",
   "execution_count": null,
   "id": "f60c1b4a",
   "metadata": {},
   "outputs": [],
   "source": []
  },
  {
   "cell_type": "code",
   "execution_count": 2,
   "id": "7b63a204",
   "metadata": {},
   "outputs": [],
   "source": [
    "#response object\n"
   ]
  },
  {
   "cell_type": "code",
   "execution_count": 3,
   "id": "c6d1fdaf",
   "metadata": {},
   "outputs": [],
   "source": [
    "#check and make sure we got a successful response from the API\n"
   ]
  },
  {
   "cell_type": "code",
   "execution_count": 4,
   "id": "ed4d3256",
   "metadata": {},
   "outputs": [],
   "source": [
    "#view the response as a JSON\n"
   ]
  },
  {
   "cell_type": "code",
   "execution_count": null,
   "id": "92e6cd2c",
   "metadata": {},
   "outputs": [],
   "source": []
  },
  {
   "cell_type": "code",
   "execution_count": 5,
   "id": "f074dfcf",
   "metadata": {},
   "outputs": [],
   "source": [
    "# We only want the Driver Standings\n"
   ]
  },
  {
   "cell_type": "code",
   "execution_count": null,
   "id": "be46a950",
   "metadata": {},
   "outputs": [],
   "source": []
  },
  {
   "cell_type": "code",
   "execution_count": null,
   "id": "3740c752",
   "metadata": {},
   "outputs": [],
   "source": []
  },
  {
   "cell_type": "markdown",
   "id": "6d546014",
   "metadata": {},
   "source": [
    "# <strong>Homework</strong>\n",
    "check out this Pokemon API https://pokeapi.co/\n",
    "Use the requests package to connect to this API and get and store data for 5 different pokemon.\n",
    "Get the pokemons: name, atleast one ability's name, base_experience, and the URL for its sprite (an image that shows up on screen) for the 'front_shiny', attack base_state, hp base_stat, defense base_stat"
   ]
  },
  {
   "cell_type": "code",
   "execution_count": 61,
   "id": "5a9081e3",
   "metadata": {},
   "outputs": [
    {
     "name": "stdout",
     "output_type": "stream",
     "text": [
      "Your pokemon's name is arceus-normal, its first ability is called multitype, its base exp is 324, its front sprite is this https://raw.githubusercontent.com/PokeAPI/sprites/master/sprites/pokemon/493.png, its shiny front sprite is this https://raw.githubusercontent.com/PokeAPI/sprites/master/sprites/pokemon/shiny/493.png, its base attack stat is 120, its base hp stat is 120, and its base defense stat is 120.\n"
     ]
    }
   ],
   "source": [
    "def grab_poke_info(pokemon):\n",
    "    new_poke_url = requests.get(f'https://pokeapi.co/api/v2/pokemon/{pokemon}')\n",
    "    new_poke_info = new_poke_url.json()\n",
    "    poke_name = new_poke_info['forms'][0]['name']\n",
    "    poke_ability_name = new_poke_info['abilities'][0]['ability']['name']\n",
    "    poke_base_exp = new_poke_info['base_experience']\n",
    "    poke_sprite_front = new_poke_info['sprites']['front_default']\n",
    "    poke_shiny_front = new_poke_info['sprites']['front_shiny']\n",
    "    poke_atk_base = new_poke_info['stats'][1]['base_stat']\n",
    "    poke_hp_base = new_poke_info['stats'][0]['base_stat']\n",
    "    poke_def_base = new_poke_info['stats'][2]['base_stat']\n",
    "    poke_info_fin = print(f'Your pokemon\\'s name is {poke_name}, its first ability is called {poke_ability_name}, its base exp is {poke_base_exp},'\n",
    "                         f' its front sprite is this {poke_sprite_front}, its shiny front sprite is this {poke_shiny_front}, its base attack '\n",
    "                         f'stat is {poke_atk_base}, its base hp stat is {poke_hp_base}, and its base defense stat is {poke_def_base}.') \n",
    "    return poke_info_fin\n",
    "\n",
    "#My favorite pokemon. I got his baby form as a shiny (1 in 8,000 chance) on the games release.\n",
    "#grab_poke_info('emboar')\n",
    "\n",
    "#My favorite gimmick pokemon. It's invincible to anything EXCEPT types it's weak to (hence the whopping 1 hp stat). \n",
    "#grab_poke_info('shedinja')\n",
    "\n",
    "#My favorite gen 1 starting pokemon. People always overhype Charizard, but I feel like venusaur has WAY MORE utility than it. \n",
    "#grab_poke_info('bulbasaur')\n",
    "\n",
    "#My favorite legendary. It was the main legendary of the first pokemon game I played and I always liked his design.\n",
    "#grab_poke_info('dialga')\n",
    "\n",
    "#My favorite mythical. He is litearlly God in pokemon form. He created everyone and everthing in the pokemon universe, \n",
    "#and his type switching is a cool mechanic.\n",
    "grab_poke_info('arceus')"
   ]
  },
  {
   "cell_type": "code",
   "execution_count": null,
   "id": "dbe10979-d7de-46ac-8c39-8103fb302399",
   "metadata": {},
   "outputs": [],
   "source": []
  },
  {
   "cell_type": "code",
   "execution_count": null,
   "id": "2f0de9a2-5c8d-4ed7-9c6d-c8eb80324e5a",
   "metadata": {},
   "outputs": [],
   "source": []
  }
 ],
 "metadata": {
  "kernelspec": {
   "display_name": "Python 3 (ipykernel)",
   "language": "python",
   "name": "python3"
  },
  "language_info": {
   "codemirror_mode": {
    "name": "ipython",
    "version": 3
   },
   "file_extension": ".py",
   "mimetype": "text/x-python",
   "name": "python",
   "nbconvert_exporter": "python",
   "pygments_lexer": "ipython3",
   "version": "3.10.12"
  }
 },
 "nbformat": 4,
 "nbformat_minor": 5
}
